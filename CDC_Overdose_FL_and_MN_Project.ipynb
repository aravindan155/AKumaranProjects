{
  "cells": [
    {
      "cell_type": "markdown",
      "metadata": {
        "id": "view-in-github",
        "colab_type": "text"
      },
      "source": [
        "<a href=\"https://colab.research.google.com/github/aravindan155/AKumaranProjects/blob/main/CDC_Overdose_FL_and_MN_Project.ipynb\" target=\"_parent\"><img src=\"https://colab.research.google.com/assets/colab-badge.svg\" alt=\"Open In Colab\"/></a>"
      ]
    },
    {
      "cell_type": "code",
      "execution_count": null,
      "metadata": {
        "id": "b5boloAOAFgf",
        "outputId": "aae647ac-789e-4590-8d35-158de6481fce"
      },
      "outputs": [
        {
          "name": "stdout",
          "output_type": "stream",
          "text": [
            "   State  Year      Month                       Indicator  Data Value\n",
            "0     FL  2020      April  Number of Drug Overdose Deaths      6238.0\n",
            "1     FL  2020     August  Number of Drug Overdose Deaths      7249.0\n",
            "2     FL  2020   December  Number of Drug Overdose Deaths      7568.0\n",
            "3     FL  2020    January  Number of Drug Overdose Deaths      5638.0\n",
            "4     FL  2020       July  Number of Drug Overdose Deaths      7049.0\n",
            "5     FL  2020       June  Number of Drug Overdose Deaths      6833.0\n",
            "6     FL  2020      March  Number of Drug Overdose Deaths      6002.0\n",
            "7     FL  2020        May  Number of Drug Overdose Deaths      6633.0\n",
            "8     FL  2020   November  Number of Drug Overdose Deaths      7512.0\n",
            "9     FL  2020    October  Number of Drug Overdose Deaths      7444.0\n",
            "10    FL  2020  September  Number of Drug Overdose Deaths      7422.0\n",
            "11    MN  2020      April  Number of Drug Overdose Deaths       858.0\n",
            "12    MN  2020     August  Number of Drug Overdose Deaths       976.0\n",
            "13    MN  2020   December  Number of Drug Overdose Deaths      1065.0\n",
            "14    MN  2020    January  Number of Drug Overdose Deaths       782.0\n",
            "15    MN  2020       July  Number of Drug Overdose Deaths       937.0\n",
            "16    MN  2020       June  Number of Drug Overdose Deaths       919.0\n",
            "17    MN  2020      March  Number of Drug Overdose Deaths       827.0\n",
            "18    MN  2020        May  Number of Drug Overdose Deaths       905.0\n",
            "19    MN  2020   November  Number of Drug Overdose Deaths      1040.0\n",
            "20    MN  2020    October  Number of Drug Overdose Deaths      1015.0\n",
            "21    MN  2020  September  Number of Drug Overdose Deaths       994.0\n",
            "\n",
            "Number of rows in filtered data: 22\n",
            "\n",
            "Mean of FL drug overdose deaths in 2020: 6871.636363636364\n",
            "Mean of MN drug overdose deaths in 2020: 938.0\n",
            "Standard deviation of FL drug overdose deaths in 2020: 666.1389153513361\n",
            "Standard deviation of MN drug overdose deaths in 2020: 90.30503861911582\n",
            "Median of FL drug overdose deaths in 2020: 7049.0\n",
            "Median of MN drug overdose deaths in 2020: 937.0\n",
            "\n",
            "Mann Whitney U test statistic: 121.0\n",
            "p-value: 8.151536127743246e-05\n"
          ]
        },
        {
          "data": {
            "image/png": "[encoded data removed]",
            "text/plain": [
              "<Figure size 500x500 with 1 Axes>"
            ]
          },
          "metadata": {},
          "output_type": "display_data"
        }
      ],
      "source": [
        "\n",
        "\n",
        "import pandas as pd\n",
        "import numpy as np\n",
        "import seaborn as sns\n",
        "import matplotlib.pyplot as plt\n",
        "df = pd.read_csv(r'c:\\Users\\Aru\\Downloads\\VSRR_Provisional_Drug_Overdose_Death_Counts_20250215.csv')\n",
        "# Filter for Florida and Minnesota, years 2020-2024, and specific months\n",
        "filtered_df = df[\n",
        "    (df['State'].isin(['FL', 'MN'])) &\n",
        "    (df['Year'].between(2020, 2024)) &\n",
        "    (df['Month'].isin(['March', 'April', 'May', 'June', 'July',\n",
        "                       'August', 'September', 'October', 'November',\n",
        "                       'December', 'January'])) &\n",
        "    (df['Indicator'] == 'Number of Drug Overdose Deaths')  # Specifically for drug overdose deaths\n",
        "]\n",
        "\n",
        "# Sort values\n",
        "filtered_df = filtered_df.sort_values(['State', 'Year', 'Month'])\n",
        "\n",
        "# Select relevant columns including Data Value\n",
        "columns_to_keep = ['State', 'Year', 'Month', 'Indicator', 'Data Value']\n",
        "filtered_df = filtered_df[columns_to_keep]\n",
        "\n",
        "# Reset index\n",
        "filtered_df = filtered_df.reset_index(drop=True)\n",
        "\n",
        "# Display the result\n",
        "print(filtered_df)\n",
        "\n",
        "# Show total number of records\n",
        "print(f\"\\nNumber of rows in filtered data: {len(filtered_df)}\")\n",
        "#Only 2020 returned due to missing data\n",
        "sns.catplot(data=filtered_df, x=\"State\", y=\"Data Value\", hue=\"State\", kind=\"bar\")\n",
        "mean_FL_OD_2020 = filtered_df[(filtered_df['State'] == 'FL') & (filtered_df['Year'] == 2020)]['Data Value'].mean()\n",
        "mean_MN_OD_2020 = filtered_df[(filtered_df['State'] == 'MN') & (filtered_df['Year'] == 2020)]['Data Value'].mean()\n",
        "SD_FL_OD_2020 = filtered_df[(filtered_df['State'] == 'FL') & (filtered_df['Year'] == 2020)]['Data Value'].std()\n",
        "SD_MN_OD_2020 = filtered_df[(filtered_df['State'] == 'MN') & (filtered_df['Year'] == 2020)]['Data Value'].std()\n",
        "MD_FL_OD_2020 = filtered_df[(filtered_df['State'] == 'FL') & (filtered_df['Year'] == 2020)]['Data Value'].median()\n",
        "MD_MN_OD_2020 = filtered_df[(filtered_df['State'] == 'MN') & (filtered_df['Year'] == 2020)]['Data Value'].median()\n",
        "print(f\"\\nMean of FL drug overdose deaths in 2020: {mean_FL_OD_2020}\")\n",
        "print(f\"Mean of MN drug overdose deaths in 2020: {mean_MN_OD_2020}\")\n",
        "print(f\"Standard deviation of FL drug overdose deaths in 2020: {SD_FL_OD_2020}\")\n",
        "print(f\"Standard deviation of MN drug overdose deaths in 2020: {SD_MN_OD_2020}\")\n",
        "print(f\"Median of FL drug overdose deaths in 2020: {MD_FL_OD_2020}\")\n",
        "print(f\"Median of MN drug overdose deaths in 2020: {MD_MN_OD_2020}\")\n",
        "from scipy import stats\n",
        "# Perform independent Mann Whitney U test\n",
        "stat, p = stats.mannwhitneyu(\n",
        "    filtered_df[(filtered_df['State'] == 'FL') & (filtered_df['Year'] == 2020)]['Data Value'],\n",
        "    filtered_df[(filtered_df['State'] == 'MN') & (filtered_df['Year'] == 2020)]['Data Value']\n",
        ")\n",
        "print(f\"\\nMann Whitney U test statistic: {stat}\")\n",
        "print(f\"p-value: {p}\")\n",
        "#There is a significant difference between the number of drug overdose deaths in Florida and Minnesota in 2020  (p < 0.05)\n",
        "#Mann Whitney U test is used because the data is not normally distributed\n",
        "#Score is positive because the data from Florida is higher than the data from Minnesota\n",
        "\n",
        "\n",
        "\n",
        "\n",
        "\n",
        "\n",
        "\n",
        "\n",
        "\n",
        "\n"
      ]
    }
  ],
  "metadata": {
    "kernelspec": {
      "display_name": "Python 3",
      "language": "python",
      "name": "python3"
    },
    "language_info": {
      "codemirror_mode": {
        "name": "ipython",
        "version": 3
      },
      "file_extension": ".py",
      "mimetype": "text/x-python",
      "name": "python",
      "nbconvert_exporter": "python",
      "pygments_lexer": "ipython3",
      "version": "3.11.9"
    },
    "colab": {
      "provenance": [],
      "include_colab_link": true
    }
  },
  "nbformat": 4,
  "nbformat_minor": 0
}