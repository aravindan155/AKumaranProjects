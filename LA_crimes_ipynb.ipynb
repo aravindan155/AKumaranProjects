{
  "cells": [
    {
      "cell_type": "markdown",
      "metadata": {
        "id": "view-in-github",
        "colab_type": "text"
      },
      "source": [
        "<a href=\"https://colab.research.google.com/github/aravindan155/AKumaranProjects/blob/main/LA_crimes_ipynb.ipynb\" target=\"_parent\"><img src=\"https://colab.research.google.com/assets/colab-badge.svg\" alt=\"Open In Colab\"/></a>"
      ]
    },
    {
      "source": [
        "![Los Angeles skyline](la_skyline.jpg)\n",
        "\n",
        "Los Angeles, California 😎. The City of Angels. Tinseltown. The Entertainment Capital of the World!\n",
        "\n",
        "Known for its warm weather, palm trees, sprawling coastline, and Hollywood, along with producing some of the most iconic films and songs. However, as with any highly populated city, it isn't always glamorous and there can be a large volume of crime. That's where you can help!\n",
        "\n",
        "You have been asked to support the Los Angeles Police Department (LAPD) by analyzing crime data to identify patterns in criminal behavior. They plan to use your insights to allocate resources effectively to tackle various crimes in different areas.\n",
        "\n",
        "## The Data\n",
        "\n",
        "They have provided you with a single dataset to use. A summary and preview are provided below.\n",
        "\n",
        "It is a modified version of the original data, which is publicly available from Los Angeles Open Data.\n",
        "\n",
        "# crimes.csv\n",
        "\n",
        "| Column     | Description              |\n",
        "|------------|--------------------------|\n",
        "| `'DR_NO'` | Division of Records Number: Official file number made up of a 2-digit year, area ID, and 5 digits. |\n",
        "| `'Date Rptd'` | Date reported - MM/DD/YYYY. |\n",
        "| `'DATE OCC'` | Date of occurrence - MM/DD/YYYY. |\n",
        "| `'TIME OCC'` | In 24-hour military time. |\n",
        "| `'AREA NAME'` | The 21 Geographic Areas or Patrol Divisions are also given a name designation that references a landmark or the surrounding community that it is responsible for. For example, the 77th Street Division is located at the intersection of South Broadway and 77th Street, serving neighborhoods in South Los Angeles. |\n",
        "| `'Crm Cd Desc'` | Indicates the crime committed. |\n",
        "| `'Vict Age'` | Victim's age in years. |\n",
        "| `'Vict Sex'` | Victim's sex: `F`: Female, `M`: Male, `X`: Unknown. |\n",
        "| `'Vict Descent'` | Victim's descent:<ul><li>`A` - Other Asian</li><li>`B` - Black</li><li>`C` - Chinese</li><li>`D` - Cambodian</li><li>`F` - Filipino</li><li>`G` - Guamanian</li><li>`H` - Hispanic/Latin/Mexican</li><li>`I` - American Indian/Alaskan Native</li><li>`J` - Japanese</li><li>`K` - Korean</li><li>`L` - Laotian</li><li>`O` - Other</li><li>`P` - Pacific Islander</li><li>`S` - Samoan</li><li>`U` - Hawaiian</li><li>`V` - Vietnamese</li><li>`W` - White</li><li>`X` - Unknown</li><li>`Z` - Asian Indian</li> |\n",
        "| `'Weapon Desc'` | Description of the weapon used (if applicable). |\n",
        "| `'Status Desc'` | Crime status. |\n",
        "| `'LOCATION'` | Street address of the crime. |"
      ],
      "metadata": {
        "id": "31ab2131-3049-4d8d-b9dc-d195f72af27a"
      },
      "id": "31ab2131-3049-4d8d-b9dc-d195f72af27a",
      "cell_type": "markdown"
    },
    {
      "source": [
        "# Re-run this cell\n",
        "# Import required libraries\n",
        "import pandas as pd\n",
        "import numpy as np\n",
        "import matplotlib.pyplot as plt\n",
        "import seaborn as sns\n",
        "crimes = pd.read_csv(\"crimes.csv\", parse_dates=[\"Date Rptd\", \"DATE OCC\"], dtype={\"TIME OCC\": str})\n",
        "crimes.head()"
      ],
      "metadata": {
        "executionCancelledAt": null,
        "executionTime": 324,
        "lastExecutedAt": 1738104180267,
        "lastScheduledRunId": null,
        "lastSuccessfullyExecutedCode": "# Re-run this cell\n# Import required libraries\nimport pandas as pd\nimport numpy as np\nimport matplotlib.pyplot as plt\nimport seaborn as sns\ncrimes = pd.read_csv(\"crimes.csv\", parse_dates=[\"Date Rptd\", \"DATE OCC\"], dtype={\"TIME OCC\": str})\ncrimes.head()",
        "outputsMetadata": {
          "0": {
            "height": 501,
            "type": "dataFrame",
            "tableState": {
              "quickFilterText": "",
              "customFilter": {
                "const": {
                  "type": "boolean",
                  "valid": true,
                  "value": true
                },
                "id": "4fa9bab1-43fb-4192-87f5-ce85add1212f",
                "nodeType": "const"
              }
            }
          }
        },
        "visualizeDataframe": false,
        "chartConfig": {
          "bar": {
            "hasRoundedCorners": true,
            "stacked": false
          },
          "type": "bar",
          "version": "v1"
        },
        "lastExecutedByKernel": "a537472e-907a-4088-8626-f016167b3d28",
        "jupyter": {
          "outputs_hidden": false,
          "source_hidden": false
        },
        "id": "7c6c3c36-5c8b-4cce-8681-95292b8f0861",
        "outputId": "16c32b8f-2e97-4baa-c87f-482b4392b21d"
      },
      "id": "7c6c3c36-5c8b-4cce-8681-95292b8f0861",
      "cell_type": "code",
      "execution_count": null,
      "outputs": [
        {
          "output_type": "execute_result",
          "data": {
            "application/com.datacamp.data-table.v2+json": {
              "table": {
                "schema": {
                  "fields": [
                    {
                      "name": "index",
                      "type": "integer"
                    },
                    {
                      "name": "DR_NO",
                      "type": "integer"
                    },
                    {
                      "name": "Date Rptd",
                      "type": "datetime"
                    },
                    {
                      "name": "DATE OCC",
                      "type": "datetime"
                    },
                    {
                      "name": "TIME OCC",
                      "type": "string"
                    },
                    {
                      "name": "AREA NAME",
                      "type": "string"
                    },
                    {
                      "name": "Crm Cd Desc",
                      "type": "string"
                    },
                    {
                      "name": "Vict Age",
                      "type": "integer"
                    },
                    {
                      "name": "Vict Sex",
                      "type": "string"
                    },
                    {
                      "name": "Vict Descent",
                      "type": "string"
                    },
                    {
                      "name": "Weapon Desc",
                      "type": "string"
                    },
                    {
                      "name": "Status Desc",
                      "type": "string"
                    },
                    {
                      "name": "LOCATION",
                      "type": "string"
                    }
                  ],
                  "primaryKey": [
                    "index"
                  ],
                  "pandas_version": "1.4.0"
                },
                "data": {
                  "index": [
                    0,
                    1,
                    2,
                    3,
                    4
                  ],
                  "DR_NO": [
                    220314085,
                    222013040,
                    220614831,
                    231207725,
                    220213256
                  ],
                  "Date Rptd": [
                    "2022-07-22T00:00:00.000",
                    "2022-08-06T00:00:00.000",
                    "2022-08-18T00:00:00.000",
                    "2023-02-27T00:00:00.000",
                    "2022-07-14T00:00:00.000"
                  ],
                  "DATE OCC": [
                    "2020-05-12T00:00:00.000",
                    "2020-06-04T00:00:00.000",
                    "2020-08-17T00:00:00.000",
                    "2020-01-27T00:00:00.000",
                    "2020-07-14T00:00:00.000"
                  ],
                  "TIME OCC": [
                    "1110",
                    "1620",
                    "1200",
                    "0635",
                    "0900"
                  ],
                  "AREA NAME": [
                    "Southwest",
                    "Olympic",
                    "Hollywood",
                    "77th Street",
                    "Rampart"
                  ],
                  "Crm Cd Desc": [
                    "THEFT OF IDENTITY",
                    "THEFT OF IDENTITY",
                    "THEFT OF IDENTITY",
                    "THEFT OF IDENTITY",
                    "THEFT OF IDENTITY"
                  ],
                  "Vict Age": [
                    27,
                    60,
                    28,
                    37,
                    79
                  ],
                  "Vict Sex": [
                    "F",
                    "M",
                    "M",
                    "M",
                    "M"
                  ],
                  "Vict Descent": [
                    "B",
                    "H",
                    "H",
                    "H",
                    "B"
                  ],
                  "Weapon Desc": [
                    null,
                    null,
                    null,
                    null,
                    null
                  ],
                  "Status Desc": [
                    "Invest Cont",
                    "Invest Cont",
                    "Invest Cont",
                    "Invest Cont",
                    "Invest Cont"
                  ],
                  "LOCATION": [
                    "2500 S  SYCAMORE                     AV",
                    "3300    SAN MARINO                   ST",
                    "1900    TRANSIENT",
                    "6200    4TH                          AV",
                    "1200 W  7TH                          ST"
                  ]
                }
              },
              "total_rows": 5,
              "truncation_type": null
            },
            "text/plain": "       DR_NO  Date Rptd  ...  Status Desc                                 LOCATION\n0  220314085 2022-07-22  ...  Invest Cont  2500 S  SYCAMORE                     AV\n1  222013040 2022-08-06  ...  Invest Cont  3300    SAN MARINO                   ST\n2  220614831 2022-08-18  ...  Invest Cont                        1900    TRANSIENT\n3  231207725 2023-02-27  ...  Invest Cont  6200    4TH                          AV\n4  220213256 2022-07-14  ...  Invest Cont  1200 W  7TH                          ST\n\n[5 rows x 12 columns]",
            "text/html": "<div>\n<style scoped>\n    .dataframe tbody tr th:only-of-type {\n        vertical-align: middle;\n    }\n\n    .dataframe tbody tr th {\n        vertical-align: top;\n    }\n\n    .dataframe thead th {\n        text-align: right;\n    }\n</style>\n<table border=\"1\" class=\"dataframe\">\n  <thead>\n    <tr style=\"text-align: right;\">\n      <th></th>\n      <th>DR_NO</th>\n      <th>Date Rptd</th>\n      <th>DATE OCC</th>\n      <th>TIME OCC</th>\n      <th>AREA NAME</th>\n      <th>Crm Cd Desc</th>\n      <th>Vict Age</th>\n      <th>Vict Sex</th>\n      <th>Vict Descent</th>\n      <th>Weapon Desc</th>\n      <th>Status Desc</th>\n      <th>LOCATION</th>\n    </tr>\n  </thead>\n  <tbody>\n    <tr>\n      <th>0</th>\n      <td>220314085</td>\n      <td>2022-07-22</td>\n      <td>2020-05-12</td>\n      <td>1110</td>\n      <td>Southwest</td>\n      <td>THEFT OF IDENTITY</td>\n      <td>27</td>\n      <td>F</td>\n      <td>B</td>\n      <td>NaN</td>\n      <td>Invest Cont</td>\n      <td>2500 S  SYCAMORE                     AV</td>\n    </tr>\n    <tr>\n      <th>1</th>\n      <td>222013040</td>\n      <td>2022-08-06</td>\n      <td>2020-06-04</td>\n      <td>1620</td>\n      <td>Olympic</td>\n      <td>THEFT OF IDENTITY</td>\n      <td>60</td>\n      <td>M</td>\n      <td>H</td>\n      <td>NaN</td>\n      <td>Invest Cont</td>\n      <td>3300    SAN MARINO                   ST</td>\n    </tr>\n    <tr>\n      <th>2</th>\n      <td>220614831</td>\n      <td>2022-08-18</td>\n      <td>2020-08-17</td>\n      <td>1200</td>\n      <td>Hollywood</td>\n      <td>THEFT OF IDENTITY</td>\n      <td>28</td>\n      <td>M</td>\n      <td>H</td>\n      <td>NaN</td>\n      <td>Invest Cont</td>\n      <td>1900    TRANSIENT</td>\n    </tr>\n    <tr>\n      <th>3</th>\n      <td>231207725</td>\n      <td>2023-02-27</td>\n      <td>2020-01-27</td>\n      <td>0635</td>\n      <td>77th Street</td>\n      <td>THEFT OF IDENTITY</td>\n      <td>37</td>\n      <td>M</td>\n      <td>H</td>\n      <td>NaN</td>\n      <td>Invest Cont</td>\n      <td>6200    4TH                          AV</td>\n    </tr>\n    <tr>\n      <th>4</th>\n      <td>220213256</td>\n      <td>2022-07-14</td>\n      <td>2020-07-14</td>\n      <td>0900</td>\n      <td>Rampart</td>\n      <td>THEFT OF IDENTITY</td>\n      <td>79</td>\n      <td>M</td>\n      <td>B</td>\n      <td>NaN</td>\n      <td>Invest Cont</td>\n      <td>1200 W  7TH                          ST</td>\n    </tr>\n  </tbody>\n</table>\n</div>"
          },
          "metadata": {
            "application/com.datacamp.data-table.v2+json": {
              "status": "success"
            }
          },
          "execution_count": 94
        }
      ]
    },
    {
      "source": [
        "#Peak Crime Per Hour\n",
        "crimes=pd.read_csv('crimes.csv')\n",
        "crimes['hour'] = crimes['TIME OCC'].astype(str).str.zfill(4).str[:2].astype(int)\n",
        "peak_crime_hour = crimes['TIME OCC'].apply(lambda x: x // 100).value_counts().index[0]\n",
        "print(peak_crime_hour)"
      ],
      "metadata": {
        "executionCancelledAt": null,
        "executionTime": 461,
        "lastExecutedAt": 1738104180728,
        "lastExecutedByKernel": "a537472e-907a-4088-8626-f016167b3d28",
        "lastScheduledRunId": null,
        "lastSuccessfullyExecutedCode": "#Peak Crime Per Hour\ncrimes=pd.read_csv('crimes.csv')\ncrimes['hour'] = crimes['TIME OCC'].astype(str).str.zfill(4).str[:2].astype(int)\npeak_crime_hour = crimes['TIME OCC'].apply(lambda x: x // 100).value_counts().index[0]\nprint(peak_crime_hour)",
        "outputsMetadata": {
          "0": {
            "height": 38,
            "type": "stream"
          }
        },
        "id": "53eada96-447c-46c3-9848-f4ca3de53d06",
        "outputId": "09fa94d9-fd54-43c5-be07-ea7a1e75ac20"
      },
      "id": "53eada96-447c-46c3-9848-f4ca3de53d06",
      "cell_type": "code",
      "execution_count": null,
      "outputs": [
        {
          "output_type": "stream",
          "name": "stdout",
          "text": "12\n"
        }
      ]
    },
    {
      "source": [
        "night_crimes = crimes[\n",
        "    (crimes['TIME OCC'].astype(int) // 100 >= 22) |\n",
        "    (crimes['TIME OCC'].astype(int) // 100 <= 4)\n",
        "]\n",
        "\n",
        "peak_night_crime_location = night_crimes.groupby('AREA NAME',\n",
        "    as_index=False)['TIME OCC'].count().sort_values('TIME OCC',\n",
        "    ascending=False).iloc[0]['AREA NAME']\n",
        "\n",
        "print(peak_night_crime_location)\n"
      ],
      "metadata": {
        "executionCancelledAt": null,
        "executionTime": 54,
        "lastExecutedAt": 1738104180783,
        "lastExecutedByKernel": "a537472e-907a-4088-8626-f016167b3d28",
        "lastScheduledRunId": null,
        "lastSuccessfullyExecutedCode": "night_crimes = crimes[\n    (crimes['TIME OCC'].astype(int) // 100 >= 22) | \n    (crimes['TIME OCC'].astype(int) // 100 <= 4)\n]\n\npeak_night_crime_location = night_crimes.groupby('AREA NAME', \n    as_index=False)['TIME OCC'].count().sort_values('TIME OCC', \n    ascending=False).iloc[0]['AREA NAME']\n\nprint(peak_night_crime_location)\n",
        "outputsMetadata": {
          "0": {
            "height": 38,
            "type": "stream"
          }
        },
        "id": "38a5f28b-82c8-4adb-ab4e-50bb237d59c4",
        "outputId": "9d93ff04-a711-4cc8-9d72-b3f298ac21e9"
      },
      "cell_type": "code",
      "id": "38a5f28b-82c8-4adb-ab4e-50bb237d59c4",
      "outputs": [
        {
          "output_type": "stream",
          "name": "stdout",
          "text": "Central\n"
        }
      ],
      "execution_count": null
    },
    {
      "source": [
        "#victim ages\n",
        "age_bins = [0, 17, 25, 34, 44, 54, 64, float('inf')]\n",
        "age_labels = [\"0-17\", \"18-25\", \"26-34\", \"35-44\", \"45-54\", \"55-64\", \"65+\"]\n",
        "victim_ages = pd.cut(crimes['Vict Age'], bins=age_bins, labels=age_labels, right=True)\n",
        "victim_ages = victim_ages.value_counts().reindex(age_labels)\n",
        "print(victim_ages)"
      ],
      "metadata": {
        "executionCancelledAt": null,
        "executionTime": 52,
        "lastExecutedAt": 1738104180835,
        "lastExecutedByKernel": "a537472e-907a-4088-8626-f016167b3d28",
        "lastScheduledRunId": null,
        "lastSuccessfullyExecutedCode": "#victim ages\nage_bins = [0, 17, 25, 34, 44, 54, 64, float('inf')]                                            \nage_labels = [\"0-17\", \"18-25\", \"26-34\", \"35-44\", \"45-54\", \"55-64\", \"65+\"]\nvictim_ages = pd.cut(crimes['Vict Age'], bins=age_bins, labels=age_labels, right=True)\nvictim_ages = victim_ages.value_counts().reindex(age_labels)\nprint(victim_ages)",
        "outputsMetadata": {
          "0": {
            "height": 185,
            "type": "stream"
          }
        },
        "id": "3a0d7f13-c3a1-4dab-b76b-a87ac688a34b",
        "outputId": "5fbb6e90-bdaa-4177-a704-d6b2affd5505"
      },
      "cell_type": "code",
      "id": "3a0d7f13-c3a1-4dab-b76b-a87ac688a34b",
      "outputs": [
        {
          "output_type": "stream",
          "name": "stdout",
          "text": "0-17      4528\n18-25    28291\n26-34    47470\n35-44    42157\n45-54    28353\n55-64    20169\n65+      14747\nName: Vict Age, dtype: int64\n"
        }
      ],
      "execution_count": null
    }
  ],
  "metadata": {
    "colab": {
      "provenance": [],
      "include_colab_link": true
    },
    "kernelspec": {
      "display_name": "Python 3 (ipykernel)",
      "language": "python",
      "name": "python3"
    },
    "language_info": {
      "codemirror_mode": {
        "name": "ipython",
        "version": 3
      },
      "file_extension": ".py",
      "mimetype": "text/x-python",
      "name": "python",
      "nbconvert_exporter": "python",
      "pygments_lexer": "ipython3",
      "version": "3.8.10"
    }
  },
  "nbformat": 4,
  "nbformat_minor": 5
}