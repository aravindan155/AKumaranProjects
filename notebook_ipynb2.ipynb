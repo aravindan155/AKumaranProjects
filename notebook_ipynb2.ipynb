{
  "cells": [
    {
      "cell_type": "markdown",
      "metadata": {
        "id": "view-in-github",
        "colab_type": "text"
      },
      "source": [
        "<a href=\"https://colab.research.google.com/github/aravindan155/AKumaranProjects/blob/main/notebook_ipynb2.ipynb\" target=\"_parent\"><img src=\"https://colab.research.google.com/assets/colab-badge.svg\" alt=\"Open In Colab\"/></a>"
      ]
    },
    {
      "source": [
        "![New York City schoolbus](schoolbus.jpg)\n",
        "\n",
        "Photo by [Jannis Lucas](https://unsplash.com/@jannis_lucas) on [Unsplash](https://unsplash.com).\n",
        "<br>\n",
        "\n",
        "Every year, American high school students take SATs, which are standardized tests intended to measure literacy, numeracy, and writing skills. There are three sections - reading, math, and writing, each with a **maximum score of 800 points**. These tests are extremely important for students and colleges, as they play a pivotal role in the admissions process.\n",
        "\n",
        "Analyzing the performance of schools is important for a variety of stakeholders, including policy and education professionals, researchers, government, and even parents considering which school their children should attend.\n",
        "\n",
        "You have been provided with a dataset called `schools.csv`, which is previewed below.\n",
        "\n",
        "You have been tasked with answering three key questions about New York City (NYC) public school SAT performance."
      ],
      "metadata": {
        "id": "fe0ea788-58dd-459e-8976-fafdb5c05c6d"
      },
      "id": "fe0ea788-58dd-459e-8976-fafdb5c05c6d",
      "cell_type": "markdown"
    },
    {
      "source": [
        "# Re-run this cell\n",
        "import pandas as pd\n",
        "\n",
        "# Read in the data\n",
        "schools = pd.read_csv(\"schools.csv\")\n",
        "\n",
        "# Preview the data\n",
        "schools.head()\n",
        "\n",
        "# Best Math Results\n",
        "best_math_schools = schools[[\"average_math\", \"school_name\"]].sort_values(by=\"average_math\", ascending=False).head(10)\n",
        "\n",
        "# Top 10 performing schools\n",
        "schools[\"total_SAT\"] = schools[[\"average_math\", \"average_reading\", \"average_writing\"]].sum(axis=1)\n",
        "top_10_schools = schools[[\"school_name\", \"total_SAT\"]].sort_values(by=[\"total_SAT\", \"school_name\"], ascending=[False, True]).head(10)\n",
        "\n",
        "# Largest SD in SAT scores\n",
        "# Calculate the number of schools per borough\n",
        "num_schools = schools.groupby(\"borough\")[\"total_SAT\"].count()\n",
        "\n",
        "# Calculate the average SAT scores per borough\n",
        "average_SAT = schools.groupby(\"borough\")[\"total_SAT\"].mean()\n",
        "\n",
        "# Calculate the standard deviation of SAT scores per borough\n",
        "std_SAT = schools.groupby(\"borough\")[\"total_SAT\"].std()\n",
        "\n",
        "# Create a DataFrame containing all the relevant information\n",
        "borough_stats = pd.DataFrame({\n",
        "    \"num_schools\": num_schools,\n",
        "    \"average_SAT\": average_SAT,\n",
        "    \"std_SAT\": std_SAT\n",
        "}).round(2)\n",
        "\n",
        "# Find the borough with the largest standard deviation\n",
        "largest_std_dev_borough = borough_stats[\"std_SAT\"].idxmax()\n",
        "\n",
        "# Filter the DataFrame to contain only the row for the borough with the largest std dev\n",
        "largest_std_dev = borough_stats.loc[[largest_std_dev_borough]]\n",
        "\n",
        "# Display the result\n",
        "print(largest_std_dev)\n",
        "\n"
      ],
      "metadata": {
        "id": "d0eb4f16-5a99-460d-a5ba-706b7ef0bbe7",
        "executionTime": 53,
        "lastSuccessfullyExecutedCode": "# Re-run this cell \nimport pandas as pd\n\n# Read in the data\nschools = pd.read_csv(\"schools.csv\")\n\n# Preview the data\nschools.head()\n\n# Best Math Results\nbest_math_schools = schools[[\"average_math\", \"school_name\"]].sort_values(by=\"average_math\", ascending=False).head(10)\n\n# Top 10 performing schools\nschools[\"total_SAT\"] = schools[[\"average_math\", \"average_reading\", \"average_writing\"]].sum(axis=1)\ntop_10_schools = schools[[\"school_name\", \"total_SAT\"]].sort_values(by=[\"total_SAT\", \"school_name\"], ascending=[False, True]).head(10)\n\n# Largest SD in SAT scores\n# Calculate the number of schools per borough\nnum_schools = schools.groupby(\"borough\")[\"total_SAT\"].count()\n\n# Calculate the average SAT scores per borough\naverage_SAT = schools.groupby(\"borough\")[\"total_SAT\"].mean()\n\n# Calculate the standard deviation of SAT scores per borough\nstd_SAT = schools.groupby(\"borough\")[\"total_SAT\"].std()\n\n# Create a DataFrame containing all the relevant information\nborough_stats = pd.DataFrame({\n    \"num_schools\": num_schools,\n    \"average_SAT\": average_SAT,\n    \"std_SAT\": std_SAT\n}).round(2)\n\n# Find the borough with the largest standard deviation\nlargest_std_dev_borough = borough_stats[\"std_SAT\"].idxmax()\n\n# Filter the DataFrame to contain only the row for the borough with the largest std dev\nlargest_std_dev = borough_stats.loc[[largest_std_dev_borough]]\n\n# Display the result\nprint(largest_std_dev)\n\n",
        "executionCancelledAt": null,
        "lastExecutedAt": 1735962410884,
        "lastScheduledRunId": null,
        "outputsMetadata": {
          "0": {
            "height": 80,
            "type": "stream"
          }
        },
        "lastExecutedByKernel": "5985870b-7653-4cdf-9e04-3cdddf871ad6",
        "outputId": "c7489285-8134-4be8-dcc6-227418ec8712"
      },
      "id": "d0eb4f16-5a99-460d-a5ba-706b7ef0bbe7",
      "cell_type": "code",
      "execution_count": null,
      "outputs": [
        {
          "output_type": "stream",
          "name": "stdout",
          "text": "           num_schools  average_SAT  std_SAT\nborough                                     \nManhattan           89      1340.13   230.29\n"
        }
      ]
    }
  ],
  "metadata": {
    "language_info": {
      "name": "python",
      "version": "3.8.10",
      "mimetype": "text/x-python",
      "codemirror_mode": {
        "name": "ipython",
        "version": 3
      },
      "pygments_lexer": "ipython3",
      "nbconvert_exporter": "python",
      "file_extension": ".py"
    },
    "kernelspec": {
      "display_name": "Python 3 (ipykernel)",
      "language": "python",
      "name": "python3"
    },
    "editor": "DataLab",
    "colab": {
      "provenance": [],
      "include_colab_link": true
    }
  },
  "nbformat": 4,
  "nbformat_minor": 5
}